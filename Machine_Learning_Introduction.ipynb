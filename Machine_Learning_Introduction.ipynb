{
  "nbformat": 4,
  "nbformat_minor": 0,
  "metadata": {
    "colab": {
      "name": "Machine_Learning_Introduction.ipynb",
      "provenance": [],
      "collapsed_sections": [],
      "authorship_tag": "ABX9TyNXvglkXQIfBI8MJy70c+lV",
      "include_colab_link": true
    },
    "kernelspec": {
      "name": "python3",
      "display_name": "Python 3"
    },
    "language_info": {
      "name": "python"
    }
  },
  "cells": [
    {
      "cell_type": "markdown",
      "metadata": {
        "id": "view-in-github",
        "colab_type": "text"
      },
      "source": [
        "<a href=\"https://colab.research.google.com/github/jhonnyribeiro/Machine_Learning_Introduction/blob/main/Machine_Learning_Introduction.ipynb\" target=\"_parent\"><img src=\"https://colab.research.google.com/assets/colab-badge.svg\" alt=\"Open In Colab\"/></a>"
      ]
    },
    {
      "cell_type": "code",
      "metadata": {
        "id": "KnrIQ-JPhWgv"
      },
      "source": [
        "# features (1 yes, 0 no)\n",
        "# long hair?\n",
        "# short leg?\n",
        "# bark ?\n",
        "\n",
        "pig1 = [0, 1, 0]\n",
        "pig2 = [0, 1, 1]\n",
        "pig3 = [1, 1, 0]\n",
        "\n",
        "dog1 = [0, 1, 1]\n",
        "dog2 = [1, 0, 1]\n",
        "dog3 = [1, 1, 1]\n",
        "\n",
        "#1 => pig, 0 => dog\n",
        "data = [pig1, pig2, pig3, dog1, dog2, dog3]\n",
        "classes = [1, 1, 1, 0, 0, 0]"
      ],
      "execution_count": 3,
      "outputs": []
    },
    {
      "cell_type": "code",
      "metadata": {
        "colab": {
          "base_uri": "https://localhost:8080/"
        },
        "id": "rGYGou1ajhEw",
        "outputId": "19cf1713-0bd8-425a-ce50-2c4a1be017fb"
      },
      "source": [
        "from sklearn.svm import LinearSVC\n",
        "\n",
        "model  = LinearSVC()\n",
        "model.fit(data,  classes)"
      ],
      "execution_count": 4,
      "outputs": [
        {
          "output_type": "execute_result",
          "data": {
            "text/plain": [
              "LinearSVC(C=1.0, class_weight=None, dual=True, fit_intercept=True,\n",
              "          intercept_scaling=1, loss='squared_hinge', max_iter=1000,\n",
              "          multi_class='ovr', penalty='l2', random_state=None, tol=0.0001,\n",
              "          verbose=0)"
            ]
          },
          "metadata": {
            "tags": []
          },
          "execution_count": 4
        }
      ]
    },
    {
      "cell_type": "code",
      "metadata": {
        "colab": {
          "base_uri": "https://localhost:8080/"
        },
        "id": "4b0l2FQIj8EY",
        "outputId": "b6601469-6f75-4556-a342-97cdeb11b0a9"
      },
      "source": [
        "mysterious_animal = [1, 1, 1]\n",
        "model.predict([mysterious_animal])"
      ],
      "execution_count": 5,
      "outputs": [
        {
          "output_type": "execute_result",
          "data": {
            "text/plain": [
              "array([0])"
            ]
          },
          "metadata": {
            "tags": []
          },
          "execution_count": 5
        }
      ]
    },
    {
      "cell_type": "code",
      "metadata": {
        "colab": {
          "base_uri": "https://localhost:8080/"
        },
        "id": "u7SJEWQ5kOLI",
        "outputId": "3cd8f074-607b-4f62-d025-649720541738"
      },
      "source": [
        "animal1 = [1, 1, 1]\n",
        "animal2 = [1, 1, 0]\n",
        "animal3 = [0, 1, 1]\n",
        "\n",
        "tests = [animal1, animal2, animal3]\n",
        "predictions = model.predict(tests)\n",
        "\n",
        "tests_classes = [0, 1, 1]\n",
        "\n",
        "predictions == tests_classes\n"
      ],
      "execution_count": 8,
      "outputs": [
        {
          "output_type": "execute_result",
          "data": {
            "text/plain": [
              "array([ True,  True, False])"
            ]
          },
          "metadata": {
            "tags": []
          },
          "execution_count": 8
        }
      ]
    },
    {
      "cell_type": "code",
      "metadata": {
        "id": "vZqs95ABk3Xr"
      },
      "source": [
        ""
      ],
      "execution_count": null,
      "outputs": []
    }
  ]
}